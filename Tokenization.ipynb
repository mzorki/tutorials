{
  "nbformat": 4,
  "nbformat_minor": 0,
  "metadata": {
    "colab": {
      "name": "Tokenization.ipynb",
      "provenance": [],
      "collapsed_sections": [],
      "toc_visible": true,
      "authorship_tag": "ABX9TyM3monPzBYhmdWP5QIFwm9k",
      "include_colab_link": true
    },
    "kernelspec": {
      "name": "python3",
      "display_name": "Python 3"
    },
    "widgets": {
      "application/vnd.jupyter.widget-state+json": {
        "434659df45a9485080fe10b30d6a5e8c": {
          "model_module": "@jupyter-widgets/controls",
          "model_name": "HBoxModel",
          "state": {
            "_view_name": "HBoxView",
            "_dom_classes": [],
            "_model_name": "HBoxModel",
            "_view_module": "@jupyter-widgets/controls",
            "_model_module_version": "1.5.0",
            "_view_count": null,
            "_view_module_version": "1.5.0",
            "box_style": "",
            "layout": "IPY_MODEL_9f5b6ea4558b4bf6a098135e30c4657c",
            "_model_module": "@jupyter-widgets/controls",
            "children": [
              "IPY_MODEL_730b7669b5eb4382ab50fbffa5e8c021",
              "IPY_MODEL_229b66c0e9ea4ad68ff0ca377b5755ee"
            ]
          }
        },
        "9f5b6ea4558b4bf6a098135e30c4657c": {
          "model_module": "@jupyter-widgets/base",
          "model_name": "LayoutModel",
          "state": {
            "_view_name": "LayoutView",
            "grid_template_rows": null,
            "right": null,
            "justify_content": null,
            "_view_module": "@jupyter-widgets/base",
            "overflow": null,
            "_model_module_version": "1.2.0",
            "_view_count": null,
            "flex_flow": null,
            "width": null,
            "min_width": null,
            "border": null,
            "align_items": null,
            "bottom": null,
            "_model_module": "@jupyter-widgets/base",
            "top": null,
            "grid_column": null,
            "overflow_y": null,
            "overflow_x": null,
            "grid_auto_flow": null,
            "grid_area": null,
            "grid_template_columns": null,
            "flex": null,
            "_model_name": "LayoutModel",
            "justify_items": null,
            "grid_row": null,
            "max_height": null,
            "align_content": null,
            "visibility": null,
            "align_self": null,
            "height": null,
            "min_height": null,
            "padding": null,
            "grid_auto_rows": null,
            "grid_gap": null,
            "max_width": null,
            "order": null,
            "_view_module_version": "1.2.0",
            "grid_template_areas": null,
            "object_position": null,
            "object_fit": null,
            "grid_auto_columns": null,
            "margin": null,
            "display": null,
            "left": null
          }
        },
        "730b7669b5eb4382ab50fbffa5e8c021": {
          "model_module": "@jupyter-widgets/controls",
          "model_name": "FloatProgressModel",
          "state": {
            "_view_name": "ProgressView",
            "style": "IPY_MODEL_b484d5c0b3644265964f256187f6ec9b",
            "_dom_classes": [],
            "description": "100%",
            "_model_name": "FloatProgressModel",
            "bar_style": "success",
            "max": 17,
            "_view_module": "@jupyter-widgets/controls",
            "_model_module_version": "1.5.0",
            "value": 17,
            "_view_count": null,
            "_view_module_version": "1.5.0",
            "orientation": "horizontal",
            "min": 0,
            "description_tooltip": null,
            "_model_module": "@jupyter-widgets/controls",
            "layout": "IPY_MODEL_c3a01e32a96644ca8f0e527b40369bfb"
          }
        },
        "229b66c0e9ea4ad68ff0ca377b5755ee": {
          "model_module": "@jupyter-widgets/controls",
          "model_name": "HTMLModel",
          "state": {
            "_view_name": "HTMLView",
            "style": "IPY_MODEL_3d8e4088b7b541b689fa3978f21b10e5",
            "_dom_classes": [],
            "description": "",
            "_model_name": "HTMLModel",
            "placeholder": "​",
            "_view_module": "@jupyter-widgets/controls",
            "_model_module_version": "1.5.0",
            "value": " 17/17 [01:16&lt;00:00,  4.49s/it]",
            "_view_count": null,
            "_view_module_version": "1.5.0",
            "description_tooltip": null,
            "_model_module": "@jupyter-widgets/controls",
            "layout": "IPY_MODEL_d559e883c1c7477d9ec9a91dd1a61326"
          }
        },
        "b484d5c0b3644265964f256187f6ec9b": {
          "model_module": "@jupyter-widgets/controls",
          "model_name": "ProgressStyleModel",
          "state": {
            "_view_name": "StyleView",
            "_model_name": "ProgressStyleModel",
            "description_width": "initial",
            "_view_module": "@jupyter-widgets/base",
            "_model_module_version": "1.5.0",
            "_view_count": null,
            "_view_module_version": "1.2.0",
            "bar_color": null,
            "_model_module": "@jupyter-widgets/controls"
          }
        },
        "c3a01e32a96644ca8f0e527b40369bfb": {
          "model_module": "@jupyter-widgets/base",
          "model_name": "LayoutModel",
          "state": {
            "_view_name": "LayoutView",
            "grid_template_rows": null,
            "right": null,
            "justify_content": null,
            "_view_module": "@jupyter-widgets/base",
            "overflow": null,
            "_model_module_version": "1.2.0",
            "_view_count": null,
            "flex_flow": null,
            "width": null,
            "min_width": null,
            "border": null,
            "align_items": null,
            "bottom": null,
            "_model_module": "@jupyter-widgets/base",
            "top": null,
            "grid_column": null,
            "overflow_y": null,
            "overflow_x": null,
            "grid_auto_flow": null,
            "grid_area": null,
            "grid_template_columns": null,
            "flex": null,
            "_model_name": "LayoutModel",
            "justify_items": null,
            "grid_row": null,
            "max_height": null,
            "align_content": null,
            "visibility": null,
            "align_self": null,
            "height": null,
            "min_height": null,
            "padding": null,
            "grid_auto_rows": null,
            "grid_gap": null,
            "max_width": null,
            "order": null,
            "_view_module_version": "1.2.0",
            "grid_template_areas": null,
            "object_position": null,
            "object_fit": null,
            "grid_auto_columns": null,
            "margin": null,
            "display": null,
            "left": null
          }
        },
        "3d8e4088b7b541b689fa3978f21b10e5": {
          "model_module": "@jupyter-widgets/controls",
          "model_name": "DescriptionStyleModel",
          "state": {
            "_view_name": "StyleView",
            "_model_name": "DescriptionStyleModel",
            "description_width": "",
            "_view_module": "@jupyter-widgets/base",
            "_model_module_version": "1.5.0",
            "_view_count": null,
            "_view_module_version": "1.2.0",
            "_model_module": "@jupyter-widgets/controls"
          }
        },
        "d559e883c1c7477d9ec9a91dd1a61326": {
          "model_module": "@jupyter-widgets/base",
          "model_name": "LayoutModel",
          "state": {
            "_view_name": "LayoutView",
            "grid_template_rows": null,
            "right": null,
            "justify_content": null,
            "_view_module": "@jupyter-widgets/base",
            "overflow": null,
            "_model_module_version": "1.2.0",
            "_view_count": null,
            "flex_flow": null,
            "width": null,
            "min_width": null,
            "border": null,
            "align_items": null,
            "bottom": null,
            "_model_module": "@jupyter-widgets/base",
            "top": null,
            "grid_column": null,
            "overflow_y": null,
            "overflow_x": null,
            "grid_auto_flow": null,
            "grid_area": null,
            "grid_template_columns": null,
            "flex": null,
            "_model_name": "LayoutModel",
            "justify_items": null,
            "grid_row": null,
            "max_height": null,
            "align_content": null,
            "visibility": null,
            "align_self": null,
            "height": null,
            "min_height": null,
            "padding": null,
            "grid_auto_rows": null,
            "grid_gap": null,
            "max_width": null,
            "order": null,
            "_view_module_version": "1.2.0",
            "grid_template_areas": null,
            "object_position": null,
            "object_fit": null,
            "grid_auto_columns": null,
            "margin": null,
            "display": null,
            "left": null
          }
        },
        "e222e4773ee94bbf94fd04bd27944b9b": {
          "model_module": "@jupyter-widgets/controls",
          "model_name": "HBoxModel",
          "state": {
            "_view_name": "HBoxView",
            "_dom_classes": [],
            "_model_name": "HBoxModel",
            "_view_module": "@jupyter-widgets/controls",
            "_model_module_version": "1.5.0",
            "_view_count": null,
            "_view_module_version": "1.5.0",
            "box_style": "",
            "layout": "IPY_MODEL_d2709ffaf2a34622925ff58550de2d12",
            "_model_module": "@jupyter-widgets/controls",
            "children": [
              "IPY_MODEL_8052671ed19249a698d82ffbe75d8eee",
              "IPY_MODEL_6fbd6a2d08fb4ed0ad0b8cffe77ec5ad"
            ]
          }
        },
        "d2709ffaf2a34622925ff58550de2d12": {
          "model_module": "@jupyter-widgets/base",
          "model_name": "LayoutModel",
          "state": {
            "_view_name": "LayoutView",
            "grid_template_rows": null,
            "right": null,
            "justify_content": null,
            "_view_module": "@jupyter-widgets/base",
            "overflow": null,
            "_model_module_version": "1.2.0",
            "_view_count": null,
            "flex_flow": null,
            "width": null,
            "min_width": null,
            "border": null,
            "align_items": null,
            "bottom": null,
            "_model_module": "@jupyter-widgets/base",
            "top": null,
            "grid_column": null,
            "overflow_y": null,
            "overflow_x": null,
            "grid_auto_flow": null,
            "grid_area": null,
            "grid_template_columns": null,
            "flex": null,
            "_model_name": "LayoutModel",
            "justify_items": null,
            "grid_row": null,
            "max_height": null,
            "align_content": null,
            "visibility": null,
            "align_self": null,
            "height": null,
            "min_height": null,
            "padding": null,
            "grid_auto_rows": null,
            "grid_gap": null,
            "max_width": null,
            "order": null,
            "_view_module_version": "1.2.0",
            "grid_template_areas": null,
            "object_position": null,
            "object_fit": null,
            "grid_auto_columns": null,
            "margin": null,
            "display": null,
            "left": null
          }
        },
        "8052671ed19249a698d82ffbe75d8eee": {
          "model_module": "@jupyter-widgets/controls",
          "model_name": "FloatProgressModel",
          "state": {
            "_view_name": "ProgressView",
            "style": "IPY_MODEL_b01b51ba32514748aee4e2dc591f4f25",
            "_dom_classes": [],
            "description": "100%",
            "_model_name": "FloatProgressModel",
            "bar_style": "success",
            "max": 17,
            "_view_module": "@jupyter-widgets/controls",
            "_model_module_version": "1.5.0",
            "value": 17,
            "_view_count": null,
            "_view_module_version": "1.5.0",
            "orientation": "horizontal",
            "min": 0,
            "description_tooltip": null,
            "_model_module": "@jupyter-widgets/controls",
            "layout": "IPY_MODEL_7d98bf93c96741e29ea9a982ff309061"
          }
        },
        "6fbd6a2d08fb4ed0ad0b8cffe77ec5ad": {
          "model_module": "@jupyter-widgets/controls",
          "model_name": "HTMLModel",
          "state": {
            "_view_name": "HTMLView",
            "style": "IPY_MODEL_850b585d2bba44a6a6c6a92fdbcc3a43",
            "_dom_classes": [],
            "description": "",
            "_model_name": "HTMLModel",
            "placeholder": "​",
            "_view_module": "@jupyter-widgets/controls",
            "_model_module_version": "1.5.0",
            "value": " 17/17 [11:38&lt;00:00, 41.11s/it]",
            "_view_count": null,
            "_view_module_version": "1.5.0",
            "description_tooltip": null,
            "_model_module": "@jupyter-widgets/controls",
            "layout": "IPY_MODEL_2c8e0dfe4f4e4259bd49906600c43da6"
          }
        },
        "b01b51ba32514748aee4e2dc591f4f25": {
          "model_module": "@jupyter-widgets/controls",
          "model_name": "ProgressStyleModel",
          "state": {
            "_view_name": "StyleView",
            "_model_name": "ProgressStyleModel",
            "description_width": "initial",
            "_view_module": "@jupyter-widgets/base",
            "_model_module_version": "1.5.0",
            "_view_count": null,
            "_view_module_version": "1.2.0",
            "bar_color": null,
            "_model_module": "@jupyter-widgets/controls"
          }
        },
        "7d98bf93c96741e29ea9a982ff309061": {
          "model_module": "@jupyter-widgets/base",
          "model_name": "LayoutModel",
          "state": {
            "_view_name": "LayoutView",
            "grid_template_rows": null,
            "right": null,
            "justify_content": null,
            "_view_module": "@jupyter-widgets/base",
            "overflow": null,
            "_model_module_version": "1.2.0",
            "_view_count": null,
            "flex_flow": null,
            "width": null,
            "min_width": null,
            "border": null,
            "align_items": null,
            "bottom": null,
            "_model_module": "@jupyter-widgets/base",
            "top": null,
            "grid_column": null,
            "overflow_y": null,
            "overflow_x": null,
            "grid_auto_flow": null,
            "grid_area": null,
            "grid_template_columns": null,
            "flex": null,
            "_model_name": "LayoutModel",
            "justify_items": null,
            "grid_row": null,
            "max_height": null,
            "align_content": null,
            "visibility": null,
            "align_self": null,
            "height": null,
            "min_height": null,
            "padding": null,
            "grid_auto_rows": null,
            "grid_gap": null,
            "max_width": null,
            "order": null,
            "_view_module_version": "1.2.0",
            "grid_template_areas": null,
            "object_position": null,
            "object_fit": null,
            "grid_auto_columns": null,
            "margin": null,
            "display": null,
            "left": null
          }
        },
        "850b585d2bba44a6a6c6a92fdbcc3a43": {
          "model_module": "@jupyter-widgets/controls",
          "model_name": "DescriptionStyleModel",
          "state": {
            "_view_name": "StyleView",
            "_model_name": "DescriptionStyleModel",
            "description_width": "",
            "_view_module": "@jupyter-widgets/base",
            "_model_module_version": "1.5.0",
            "_view_count": null,
            "_view_module_version": "1.2.0",
            "_model_module": "@jupyter-widgets/controls"
          }
        },
        "2c8e0dfe4f4e4259bd49906600c43da6": {
          "model_module": "@jupyter-widgets/base",
          "model_name": "LayoutModel",
          "state": {
            "_view_name": "LayoutView",
            "grid_template_rows": null,
            "right": null,
            "justify_content": null,
            "_view_module": "@jupyter-widgets/base",
            "overflow": null,
            "_model_module_version": "1.2.0",
            "_view_count": null,
            "flex_flow": null,
            "width": null,
            "min_width": null,
            "border": null,
            "align_items": null,
            "bottom": null,
            "_model_module": "@jupyter-widgets/base",
            "top": null,
            "grid_column": null,
            "overflow_y": null,
            "overflow_x": null,
            "grid_auto_flow": null,
            "grid_area": null,
            "grid_template_columns": null,
            "flex": null,
            "_model_name": "LayoutModel",
            "justify_items": null,
            "grid_row": null,
            "max_height": null,
            "align_content": null,
            "visibility": null,
            "align_self": null,
            "height": null,
            "min_height": null,
            "padding": null,
            "grid_auto_rows": null,
            "grid_gap": null,
            "max_width": null,
            "order": null,
            "_view_module_version": "1.2.0",
            "grid_template_areas": null,
            "object_position": null,
            "object_fit": null,
            "grid_auto_columns": null,
            "margin": null,
            "display": null,
            "left": null
          }
        },
        "96ccfdd417f948008b95628f25b30ae2": {
          "model_module": "@jupyter-widgets/controls",
          "model_name": "HBoxModel",
          "state": {
            "_view_name": "HBoxView",
            "_dom_classes": [],
            "_model_name": "HBoxModel",
            "_view_module": "@jupyter-widgets/controls",
            "_model_module_version": "1.5.0",
            "_view_count": null,
            "_view_module_version": "1.5.0",
            "box_style": "",
            "layout": "IPY_MODEL_11f1acbd48c449a69163505bd59e0c0c",
            "_model_module": "@jupyter-widgets/controls",
            "children": [
              "IPY_MODEL_95cb8acf19474ef3beed6ad3cbc45835",
              "IPY_MODEL_e46c1005aeb74105ba92ea187f81e0bc"
            ]
          }
        },
        "11f1acbd48c449a69163505bd59e0c0c": {
          "model_module": "@jupyter-widgets/base",
          "model_name": "LayoutModel",
          "state": {
            "_view_name": "LayoutView",
            "grid_template_rows": null,
            "right": null,
            "justify_content": null,
            "_view_module": "@jupyter-widgets/base",
            "overflow": null,
            "_model_module_version": "1.2.0",
            "_view_count": null,
            "flex_flow": null,
            "width": null,
            "min_width": null,
            "border": null,
            "align_items": null,
            "bottom": null,
            "_model_module": "@jupyter-widgets/base",
            "top": null,
            "grid_column": null,
            "overflow_y": null,
            "overflow_x": null,
            "grid_auto_flow": null,
            "grid_area": null,
            "grid_template_columns": null,
            "flex": null,
            "_model_name": "LayoutModel",
            "justify_items": null,
            "grid_row": null,
            "max_height": null,
            "align_content": null,
            "visibility": null,
            "align_self": null,
            "height": null,
            "min_height": null,
            "padding": null,
            "grid_auto_rows": null,
            "grid_gap": null,
            "max_width": null,
            "order": null,
            "_view_module_version": "1.2.0",
            "grid_template_areas": null,
            "object_position": null,
            "object_fit": null,
            "grid_auto_columns": null,
            "margin": null,
            "display": null,
            "left": null
          }
        },
        "95cb8acf19474ef3beed6ad3cbc45835": {
          "model_module": "@jupyter-widgets/controls",
          "model_name": "FloatProgressModel",
          "state": {
            "_view_name": "ProgressView",
            "style": "IPY_MODEL_85c049cb3c724070bedc6ae0d4eeee51",
            "_dom_classes": [],
            "description": "100%",
            "_model_name": "FloatProgressModel",
            "bar_style": "success",
            "max": 17,
            "_view_module": "@jupyter-widgets/controls",
            "_model_module_version": "1.5.0",
            "value": 17,
            "_view_count": null,
            "_view_module_version": "1.5.0",
            "orientation": "horizontal",
            "min": 0,
            "description_tooltip": null,
            "_model_module": "@jupyter-widgets/controls",
            "layout": "IPY_MODEL_4270feb1b4414aa3adb6afc2b82c4ba5"
          }
        },
        "e46c1005aeb74105ba92ea187f81e0bc": {
          "model_module": "@jupyter-widgets/controls",
          "model_name": "HTMLModel",
          "state": {
            "_view_name": "HTMLView",
            "style": "IPY_MODEL_d929e88d7d1f46fb91d0a62a3b180380",
            "_dom_classes": [],
            "description": "",
            "_model_name": "HTMLModel",
            "placeholder": "​",
            "_view_module": "@jupyter-widgets/controls",
            "_model_module_version": "1.5.0",
            "value": " 17/17 [01:49&lt;00:00,  6.43s/it]",
            "_view_count": null,
            "_view_module_version": "1.5.0",
            "description_tooltip": null,
            "_model_module": "@jupyter-widgets/controls",
            "layout": "IPY_MODEL_ca8351ec77d14bbd9fea1620a6360a09"
          }
        },
        "85c049cb3c724070bedc6ae0d4eeee51": {
          "model_module": "@jupyter-widgets/controls",
          "model_name": "ProgressStyleModel",
          "state": {
            "_view_name": "StyleView",
            "_model_name": "ProgressStyleModel",
            "description_width": "initial",
            "_view_module": "@jupyter-widgets/base",
            "_model_module_version": "1.5.0",
            "_view_count": null,
            "_view_module_version": "1.2.0",
            "bar_color": null,
            "_model_module": "@jupyter-widgets/controls"
          }
        },
        "4270feb1b4414aa3adb6afc2b82c4ba5": {
          "model_module": "@jupyter-widgets/base",
          "model_name": "LayoutModel",
          "state": {
            "_view_name": "LayoutView",
            "grid_template_rows": null,
            "right": null,
            "justify_content": null,
            "_view_module": "@jupyter-widgets/base",
            "overflow": null,
            "_model_module_version": "1.2.0",
            "_view_count": null,
            "flex_flow": null,
            "width": null,
            "min_width": null,
            "border": null,
            "align_items": null,
            "bottom": null,
            "_model_module": "@jupyter-widgets/base",
            "top": null,
            "grid_column": null,
            "overflow_y": null,
            "overflow_x": null,
            "grid_auto_flow": null,
            "grid_area": null,
            "grid_template_columns": null,
            "flex": null,
            "_model_name": "LayoutModel",
            "justify_items": null,
            "grid_row": null,
            "max_height": null,
            "align_content": null,
            "visibility": null,
            "align_self": null,
            "height": null,
            "min_height": null,
            "padding": null,
            "grid_auto_rows": null,
            "grid_gap": null,
            "max_width": null,
            "order": null,
            "_view_module_version": "1.2.0",
            "grid_template_areas": null,
            "object_position": null,
            "object_fit": null,
            "grid_auto_columns": null,
            "margin": null,
            "display": null,
            "left": null
          }
        },
        "d929e88d7d1f46fb91d0a62a3b180380": {
          "model_module": "@jupyter-widgets/controls",
          "model_name": "DescriptionStyleModel",
          "state": {
            "_view_name": "StyleView",
            "_model_name": "DescriptionStyleModel",
            "description_width": "",
            "_view_module": "@jupyter-widgets/base",
            "_model_module_version": "1.5.0",
            "_view_count": null,
            "_view_module_version": "1.2.0",
            "_model_module": "@jupyter-widgets/controls"
          }
        },
        "ca8351ec77d14bbd9fea1620a6360a09": {
          "model_module": "@jupyter-widgets/base",
          "model_name": "LayoutModel",
          "state": {
            "_view_name": "LayoutView",
            "grid_template_rows": null,
            "right": null,
            "justify_content": null,
            "_view_module": "@jupyter-widgets/base",
            "overflow": null,
            "_model_module_version": "1.2.0",
            "_view_count": null,
            "flex_flow": null,
            "width": null,
            "min_width": null,
            "border": null,
            "align_items": null,
            "bottom": null,
            "_model_module": "@jupyter-widgets/base",
            "top": null,
            "grid_column": null,
            "overflow_y": null,
            "overflow_x": null,
            "grid_auto_flow": null,
            "grid_area": null,
            "grid_template_columns": null,
            "flex": null,
            "_model_name": "LayoutModel",
            "justify_items": null,
            "grid_row": null,
            "max_height": null,
            "align_content": null,
            "visibility": null,
            "align_self": null,
            "height": null,
            "min_height": null,
            "padding": null,
            "grid_auto_rows": null,
            "grid_gap": null,
            "max_width": null,
            "order": null,
            "_view_module_version": "1.2.0",
            "grid_template_areas": null,
            "object_position": null,
            "object_fit": null,
            "grid_auto_columns": null,
            "margin": null,
            "display": null,
            "left": null
          }
        }
      }
    }
  },
  "cells": [
    {
      "cell_type": "markdown",
      "metadata": {
        "id": "view-in-github",
        "colab_type": "text"
      },
      "source": [
        "<a href=\"https://colab.research.google.com/github/mzorki/tutorials/blob/main/Tokenization.ipynb\" target=\"_parent\"><img src=\"https://colab.research.google.com/assets/colab-badge.svg\" alt=\"Open In Colab\"/></a>"
      ]
    },
    {
      "cell_type": "markdown",
      "metadata": {
        "id": "zPKpAUq9BDOn"
      },
      "source": [
        "# This tutorial\n",
        "\n",
        "Below is Python3 code for working with different types of tokenizers of Chinese language. The corresponding git repository and README file are here: https://github.com/mzorki/tutorials \n",
        "- This file can be also used by those who do not know how to code. Just follow the insctuctions and run the code in cells by pressing the \"play\" button in upper left corner. \n",
        "- If running the file from Google Colab, the table of contents can be opened in the menu on the left side of this window. \n",
        "- For more information on tokenization, read this article in Digital Orientalist\n",
        "TODO insert.\n"
      ]
    },
    {
      "cell_type": "markdown",
      "metadata": {
        "id": "wfhBcaaddaqc"
      },
      "source": [
        "# Step 1. Import all the required libraries.\n"
      ]
    },
    {
      "cell_type": "code",
      "metadata": {
        "id": "9cbWOX4sdfRI"
      },
      "source": [
        "import pandas as pd\n",
        "import json\n",
        "from pandas import json_normalize\n",
        "from tqdm.notebook import tqdm \n",
        "import re"
      ],
      "execution_count": 2,
      "outputs": []
    },
    {
      "cell_type": "markdown",
      "metadata": {
        "id": "OKKloeRehxie"
      },
      "source": [
        "# Step 2. Mount Google Drive\n",
        "For Colab to be able to work with Google Drive as a normal directory, we need to give it permissions to do so and tell it the place where this notebook is. <br> \n",
        "Run the cell, then click the link that appears below, give the permissions and copy the code that will appear on that page into the field below."
      ]
    },
    {
      "cell_type": "code",
      "metadata": {
        "colab": {
          "base_uri": "https://localhost:8080/"
        },
        "id": "Ptoy-2APeBfk",
        "outputId": "0301ab10-c3a6-440d-cf53-95e0acef7e3f"
      },
      "source": [
        "from google.colab import drive\n",
        "drive.mount('/gdrive', force_remount=True)"
      ],
      "execution_count": 3,
      "outputs": [
        {
          "output_type": "stream",
          "text": [
            "Mounted at /gdrive\n"
          ],
          "name": "stdout"
        }
      ]
    },
    {
      "cell_type": "markdown",
      "metadata": {
        "id": "2ZE4Ut3BejKv"
      },
      "source": [
        "Input the path to the project. Generally starts with \"gdrive/My Drive/\" + path to the project folder. <br>\n",
        "In my case, I have a folder \"Chinese_tokenizers\" in the Google Drive first level folder called \"My Drive\", hence the path. <br>\n",
        "It is always better not to have spaces in folder names.\n"
      ]
    },
    {
      "cell_type": "code",
      "metadata": {
        "colab": {
          "base_uri": "https://localhost:8080/"
        },
        "id": "1SVQve9leLix",
        "outputId": "0d26569a-68d9-4ed6-86fe-96aa8e330930"
      },
      "source": [
        "project_dir = \"/gdrive/My Drive/Chinese_tokenizers/\" \n",
        "\n",
        "#move to the working directory \n",
        "%cd {project_dir} "
      ],
      "execution_count": 4,
      "outputs": [
        {
          "output_type": "stream",
          "text": [
            "/gdrive/My Drive/Chinese_tokenizers\n"
          ],
          "name": "stdout"
        }
      ]
    },
    {
      "cell_type": "markdown",
      "metadata": {
        "id": "48lDwy0UhbC6"
      },
      "source": [
        "# Step 3. Save the paths to the dictionary and the text to tokenize.\n",
        "\n",
        "CDICT (Stardict) dictionary is used in this notebook.\n",
        "To use a custom dictionary:\n",
        "- create a .txt file with one word per line\n",
        "- upload the dictionary to the project folder\n",
        "- change the file name in the cell below \n",
        "\n",
        "To tokenize a text:\n",
        "- create a .txt file with the text to tokenize.\n",
        "- no special formatting is required for the text. On the other hand, if there was any, it might be lost after tokenization. \n",
        "- change the file name in the cell below"
      ]
    },
    {
      "cell_type": "code",
      "metadata": {
        "id": "iYTm39aEi7XG"
      },
      "source": [
        "dictionary_path = 'CDICT(Stardict)_wordlist.txt'\n",
        "text_path = 'test_text.txt'\n",
        "\n",
        "tok_text = open(text_path).read()\n",
        "sentences = [i for i in tok_text.split('\\n') if i!='']"
      ],
      "execution_count": 14,
      "outputs": []
    },
    {
      "cell_type": "markdown",
      "metadata": {
        "id": "Uk5LWUand0H3"
      },
      "source": [
        "# Step 4. Test the tokenizers.\n",
        "\n",
        "Below are examples of code to work with several tokenizers. Generally, there are following parts:\n",
        "- a short description of the tool\n",
        "- link to the github repository\n",
        "- example code to tokenize one phrase\n",
        "- code to load used dictionary\n",
        "- example code to tokenize a .txt file\n",
        "\n",
        "Please notice:\n",
        "- after a user dictionary has been loaded, the tokenizer will remember it for all operations afterwards. To reset, run the cells from the beginning of a section\n",
        "- output files are saved to the working folder. For Google Drive it sometimes takes some time to update the folder and add a new file. If you do not see it, try refreshing Google Drive page or waiting for a minute. "
      ]
    },
    {
      "cell_type": "markdown",
      "metadata": {
        "id": "ymumL1HnfmHo"
      },
      "source": [
        "## Jieba\n",
        "\n",
        "https://github.com/fxsjy/jieba\n",
        "\n",
        "jieba is one of the most popular tokenizers for Modern Chinese. It has very detailed instructions on their github page. \n",
        "<br>\n",
        "Has many fine-tuning options (including whether it uses a statistical model or adds machine learning), PoS tagging and a possibility to add a user-defined dictionary.\n",
        "<br>\n",
        "Very good with Modern Chinese. Works fine with full characters, but for MC and OC will recognize many long phrases as words.\n",
        "<br>\n",
        "Github page has more explanations and examples."
      ]
    },
    {
      "cell_type": "code",
      "metadata": {
        "id": "fVFLC0yBeVXg"
      },
      "source": [
        "import jieba\n",
        "\n",
        "#remove the \"#\" below if you want jieba to use machine learning. \n",
        "#jieba.enable_paddle() "
      ],
      "execution_count": 6,
      "outputs": []
    },
    {
      "cell_type": "markdown",
      "metadata": {
        "id": "lP8L8-s5IxVx"
      },
      "source": [
        "### Tokenize a sentence.\n",
        "Insert your own text to test it."
      ]
    },
    {
      "cell_type": "code",
      "metadata": {
        "id": "ibW9LxbOf3O6"
      },
      "source": [
        "text = \"我来到北京清华大学\""
      ],
      "execution_count": 9,
      "outputs": []
    },
    {
      "cell_type": "markdown",
      "metadata": {
        "id": "e0NLkdpZJF0v"
      },
      "source": [
        "Tokenization in the \"Default mode\": <br>\n",
        "note that when possible this algorithm will choose to keep longer sequences of characters not split."
      ]
    },
    {
      "cell_type": "code",
      "metadata": {
        "colab": {
          "base_uri": "https://localhost:8080/"
        },
        "id": "9X928L6KJE0N",
        "outputId": "a9341fb0-968a-4178-a735-1579afabc128"
      },
      "source": [
        "seg_list = jieba.cut(text, cut_all=False)\n",
        "print(\"Default Mode: \" + \"/ \".join(seg_list))  # 精确模式"
      ],
      "execution_count": 11,
      "outputs": [
        {
          "output_type": "stream",
          "text": [
            "Default Mode: 我/ 来到/ 北京/ 清华大学\n"
          ],
          "name": "stdout"
        }
      ]
    },
    {
      "cell_type": "markdown",
      "metadata": {
        "id": "5NKT277AJ6ip"
      },
      "source": [
        "Tokenization in \"Full mode\": <br>\n",
        "note how in moments of uncertainty the algorithm returns **all possible** variants. This adds a lot of noise and makes the text not appropriate for corpus analysis."
      ]
    },
    {
      "cell_type": "code",
      "metadata": {
        "colab": {
          "base_uri": "https://localhost:8080/"
        },
        "id": "KqGUWS-XgBcF",
        "outputId": "fd2aa97b-aad9-4789-b7db-37362685cafd"
      },
      "source": [
        "seg_list = jieba.cut(text, cut_all=True)\n",
        "print(\"Full Mode: \" + \" \".join(seg_list))  # 全模式"
      ],
      "execution_count": 10,
      "outputs": [
        {
          "output_type": "stream",
          "text": [
            "Full Mode: 我 来到 北京 清华 清华大学 华大 大学\n"
          ],
          "name": "stdout"
        }
      ]
    },
    {
      "cell_type": "markdown",
      "metadata": {
        "id": "qTXykS-tg2xG"
      },
      "source": [
        "Load the dictionary file. \n"
      ]
    },
    {
      "cell_type": "code",
      "metadata": {
        "id": "kSvedrlPgEOm"
      },
      "source": [
        "jieba.load_userdict(dictionary_path)"
      ],
      "execution_count": 12,
      "outputs": []
    },
    {
      "cell_type": "markdown",
      "metadata": {
        "id": "BFeHZAGxKzh8"
      },
      "source": [
        "Run the tokenization with the dictionary."
      ]
    },
    {
      "cell_type": "code",
      "metadata": {
        "colab": {
          "base_uri": "https://localhost:8080/"
        },
        "id": "MwRoYkxbKyjI",
        "outputId": "5533e472-49d3-428c-e952-ac967efb9286"
      },
      "source": [
        "seg_list = jieba.cut(\"建章歡賞夕，二八盡妖妍。羅綺昭陽殿，芬芳玳瑁筵 。\", cut_all=False)\n",
        "print(\"Full Mode + dictionary: \" + \" \".join(seg_list))"
      ],
      "execution_count": 23,
      "outputs": [
        {
          "output_type": "stream",
          "text": [
            "Full Mode + dictionary: 建章 歡賞夕 ， 二八 盡 妖妍 。 羅綺 昭陽殿 ， 芬芳 玳瑁筵   。\n"
          ],
          "name": "stdout"
        }
      ]
    },
    {
      "cell_type": "markdown",
      "metadata": {
        "id": "uSDi1HRDLf-6"
      },
      "source": [
        "### Tokenize a text\n",
        "\n",
        "The name of the file to tokenize should be inserted in \"Step 3\". <br>\n",
        "\n",
        "\n"
      ]
    },
    {
      "cell_type": "code",
      "metadata": {
        "id": "RFyEm3-KM509"
      },
      "source": [
        "with open('k.txt', 'w') as fh:\n",
        "  fh.write('hey')"
      ],
      "execution_count": 19,
      "outputs": []
    },
    {
      "cell_type": "code",
      "metadata": {
        "colab": {
          "base_uri": "https://localhost:8080/",
          "height": 66,
          "referenced_widgets": [
            "434659df45a9485080fe10b30d6a5e8c",
            "9f5b6ea4558b4bf6a098135e30c4657c",
            "730b7669b5eb4382ab50fbffa5e8c021",
            "229b66c0e9ea4ad68ff0ca377b5755ee",
            "b484d5c0b3644265964f256187f6ec9b",
            "c3a01e32a96644ca8f0e527b40369bfb",
            "3d8e4088b7b541b689fa3978f21b10e5",
            "d559e883c1c7477d9ec9a91dd1a61326"
          ]
        },
        "id": "5mC7qnWuKxEm",
        "outputId": "a9b83da5-a1b4-49ca-b042-f2d23d735f5a"
      },
      "source": [
        "fh = open('jieba_tokenized.txt', 'w')\n",
        "\n",
        "for phrase in tqdm(sentences):\n",
        "  seg_list = jieba.cut(phrase, cut_all=False)\n",
        "  joined_list = \" \".join(seg_list)\n",
        "  fh.write(f'{joined_list}\\n')\n",
        "\n",
        "fh.close()"
      ],
      "execution_count": 36,
      "outputs": [
        {
          "output_type": "display_data",
          "data": {
            "application/vnd.jupyter.widget-view+json": {
              "model_id": "434659df45a9485080fe10b30d6a5e8c",
              "version_minor": 0,
              "version_major": 2
            },
            "text/plain": [
              "HBox(children=(FloatProgress(value=0.0, max=17.0), HTML(value='')))"
            ]
          },
          "metadata": {
            "tags": []
          }
        },
        {
          "output_type": "stream",
          "text": [
            "\n"
          ],
          "name": "stdout"
        }
      ]
    },
    {
      "cell_type": "markdown",
      "metadata": {
        "id": "KmXYL_YljdsG"
      },
      "source": [
        "## HanLP\n",
        "HanLP is a ... <br>\n",
        "It is not pre-installed by Google Colab, so we need to first install it and download all the necessary files for it to work. <br><br>\n",
        "**Important!**\n",
        "- keep an eye on data usage\n",
        "- after this file is closed, all the downloaded data will be deleted. So one needs to reinstall everything each time."
      ]
    },
    {
      "cell_type": "code",
      "metadata": {
        "colab": {
          "base_uri": "https://localhost:8080/"
        },
        "id": "8unJnor7gXlE",
        "outputId": "19891e05-1300-4635-93f4-692b48b917f5"
      },
      "source": [
        "!pip install pyhanlp\n",
        "import pyhanlp"
      ],
      "execution_count": 24,
      "outputs": [
        {
          "output_type": "stream",
          "text": [
            "Requirement already satisfied: pyhanlp in /usr/local/lib/python3.6/dist-packages (0.1.66)\n",
            "Requirement already satisfied: jpype1==0.7.0 in /usr/local/lib/python3.6/dist-packages (from pyhanlp) (0.7.0)\n"
          ],
          "name": "stdout"
        }
      ]
    },
    {
      "cell_type": "code",
      "metadata": {
        "id": "lgjtGzoVjbx7"
      },
      "source": [
        ""
      ],
      "execution_count": null,
      "outputs": []
    },
    {
      "cell_type": "markdown",
      "metadata": {
        "id": "R0za6uHJl_qk"
      },
      "source": [
        "## Udkanbun\n",
        "\n",
        "Udkanbun is ... https://github.com/KoichiYasuoka/UD-Kanbun <br>\n",
        "Once again, it needs to be installed before we can use it.\n"
      ]
    },
    {
      "cell_type": "code",
      "metadata": {
        "colab": {
          "base_uri": "https://localhost:8080/"
        },
        "id": "TTQuLrfcmB2j",
        "outputId": "a9629f1c-c0fd-477c-de4f-2351a8d009c6"
      },
      "source": [
        "!pip install udkanbun\n",
        "import udkanbun"
      ],
      "execution_count": 25,
      "outputs": [
        {
          "output_type": "stream",
          "text": [
            "Collecting udkanbun\n",
            "\u001b[?25l  Downloading https://files.pythonhosted.org/packages/b4/88/dec18d7ad738edeaacb050e3285c09a567f767e2c4c2d730e9bd5d61e1c3/udkanbun-2.7.2.tar.gz (13.9MB)\n",
            "\u001b[K     |████████████████████████████████| 13.9MB 315kB/s \n",
            "\u001b[?25hCollecting ufal.udpipe>=1.2.0\n",
            "\u001b[?25l  Downloading https://files.pythonhosted.org/packages/e5/72/2b8b9dc7c80017c790bb3308bbad34b57accfed2ac2f1f4ab252ff4e9cb2/ufal.udpipe-1.2.0.3.tar.gz (304kB)\n",
            "\u001b[K     |████████████████████████████████| 307kB 37.1MB/s \n",
            "\u001b[?25hCollecting mecab-python3>=0.996.5\n",
            "\u001b[?25l  Downloading https://files.pythonhosted.org/packages/b4/f0/b57bfb29abd6b898d7137f4a276a338d2565f28a2098d60714388d119f3e/mecab_python3-1.0.3-cp36-cp36m-manylinux1_x86_64.whl (487kB)\n",
            "\u001b[K     |████████████████████████████████| 491kB 40.7MB/s \n",
            "\u001b[?25hCollecting deplacy>=1.8.9\n",
            "  Downloading https://files.pythonhosted.org/packages/a4/85/707706dbc2e0626b5408c2469908810e5c4d5374995745bca04f450f41ec/deplacy-1.8.9-py3-none-any.whl\n",
            "Building wheels for collected packages: udkanbun, ufal.udpipe\n",
            "  Building wheel for udkanbun (setup.py) ... \u001b[?25l\u001b[?25hdone\n",
            "  Created wheel for udkanbun: filename=udkanbun-2.7.2-cp36-none-any.whl size=13895095 sha256=b038149a9b097b8d988e054275d342b123525d2b1784fafad631015c60b54322\n",
            "  Stored in directory: /root/.cache/pip/wheels/9e/f9/df/2a5f53386ce1299babae799e6185e71b8e6028485faf47d7eb\n",
            "  Building wheel for ufal.udpipe (setup.py) ... \u001b[?25l\u001b[?25hdone\n",
            "  Created wheel for ufal.udpipe: filename=ufal.udpipe-1.2.0.3-cp36-cp36m-linux_x86_64.whl size=5625249 sha256=a03d4ef7211777a493d7fb98ddfdb20533d3abd8e676847e4616d1b0cafb9197\n",
            "  Stored in directory: /root/.cache/pip/wheels/0c/9d/db/6d3404c33da5b7adb6c6972853efb6a27649d3ba15f7e9bebb\n",
            "Successfully built udkanbun ufal.udpipe\n",
            "Installing collected packages: ufal.udpipe, mecab-python3, deplacy, udkanbun\n",
            "Successfully installed deplacy-1.8.9 mecab-python3-1.0.3 udkanbun-2.7.2 ufal.udpipe-1.2.0.3\n"
          ],
          "name": "stdout"
        }
      ]
    },
    {
      "cell_type": "markdown",
      "metadata": {
        "id": "3boIpIBfP4wV"
      },
      "source": [
        "Load the tokenizer."
      ]
    },
    {
      "cell_type": "code",
      "metadata": {
        "id": "1zcR7f60mCPM"
      },
      "source": [
        "lzh=udkanbun.load()"
      ],
      "execution_count": 26,
      "outputs": []
    },
    {
      "cell_type": "markdown",
      "metadata": {
        "id": "QinjTPxPoHFm"
      },
      "source": [
        "### Working with one phrase. Full information and syntactic trees."
      ]
    },
    {
      "cell_type": "code",
      "metadata": {
        "id": "EZ6vbsHpnJKU"
      },
      "source": [
        "text = \"建章歡賞夕，二八盡妖妍。羅綺昭陽殿，芬芳玳瑁筵 。\""
      ],
      "execution_count": 27,
      "outputs": []
    },
    {
      "cell_type": "code",
      "metadata": {
        "id": "2TZtyQQ3nLtv"
      },
      "source": [
        "seg_phrase = lzh(text)"
      ],
      "execution_count": 28,
      "outputs": []
    },
    {
      "cell_type": "markdown",
      "metadata": {
        "id": "D72uAZ_RP9G-"
      },
      "source": [
        "It is possible to load the full information from the syntactic tree."
      ]
    },
    {
      "cell_type": "code",
      "metadata": {
        "colab": {
          "base_uri": "https://localhost:8080/"
        },
        "id": "H5K5QAXonOc-",
        "outputId": "b4ebd4cb-4afd-4190-8c48-3f074117a4e7"
      },
      "source": [
        "print(seg_phrase)"
      ],
      "execution_count": 29,
      "outputs": [
        {
          "output_type": "stream",
          "text": [
            "# text = 建章歡賞夕，二八盡妖妍。\n",
            "1\t建\t建\tVERB\tv,動詞,行為,動作\t_\t0\troot\t_\tGloss=establish|SpaceAfter=No\n",
            "2\t章\t章\tPROPN\tn,名詞,人,姓氏\tNameType=Sur\t1\tobj\t_\tGloss=[surname]|SpaceAfter=No\n",
            "3\t歡\t歡\tPROPN\tn,名詞,人,名\tNameType=Giv\t2\tflat\t_\tGloss=[given-name]|SpaceAfter=No|Translit=欢\n",
            "4\t賞\t賞\tVERB\tv,動詞,行為,交流\t_\t1\tparataxis\t_\tGloss=reward|SpaceAfter=No|Translit=赏\n",
            "5\t夕\t夕\tNOUN\tn,名詞,時,*\tCase=Tem\t4\tobj\t_\tGloss=evening|SpaceAfter=No\n",
            "6\t，\t，\tPUNCT\ts,記号,読点,*\t_\t9\tcc\t_\tSpaceAfter=No\n",
            "7\t二\t二\tNUM\tn,数詞,数字,*\t_\t9\tnsubj\t_\tGloss=two|SpaceAfter=No\n",
            "8\t八\t八\tNUM\tn,数詞,数字,*\t_\t7\tconj\t_\tGloss=eight|SpaceAfter=No\n",
            "9\t盡\t盡\tVERB\tv,動詞,行為,動作\t_\t1\tconj\t_\tGloss=exhaust|SpaceAfter=No|Translit=尽\n",
            "10\t妖\t妖\tVERB\tv,動詞,描写,態度\tDegree=Pos\t11\tamod\t_\tGloss=bewitching|SpaceAfter=No\n",
            "11\t妍\t妍\tNOUN\tn,名詞,*,*\t_\t9\tobj\t_\tSpaceAfter=No\n",
            "12\t。\t。\tPUNCT\ts,記号,句点,*\t_\t1\tpunct\t_\tSpaceAfter=No\n",
            "\n",
            "# text = 羅綺昭陽殿，芬芳玳瑁筵 。\n",
            "1\t羅\t羅\tVERB\tv,動詞,行為,動作\t_\t0\troot\t_\tGloss=gather|SpaceAfter=No|Translit=罗\n",
            "2\t綺\t綺\tVERB\tv,動詞,描写,形質\tDegree=Pos\t1\tflat:vv\t_\tSpaceAfter=No|Translit=绮\n",
            "3\t昭\t昭\tVERB\tv,動詞,描写,形質\tDegree=Pos\t5\tamod\t_\tGloss=bright|SpaceAfter=No\n",
            "4\t陽\t陽\tNOUN\tn,名詞,天象,気象\t_\t5\tnmod\t_\tGloss=sunny-side|SpaceAfter=No|Translit=阳\n",
            "5\t殿\t殿\tNOUN\tn,名詞,固定物,関係\tCase=Loc\t1\tobj\t_\tGloss=rear-of-an-army|SpaceAfter=No\n",
            "6\t，\t，\tPUNCT\ts,記号,読点,*\t_\t8\tadvmod\t_\tSpaceAfter=No\n",
            "7\t芬\t芬\tNOUN\tn,名詞,*,*\t_\t8\tnmod\t_\tSpaceAfter=No\n",
            "8\t芳\t芳\tNOUN\tn,名詞,可搬,伝達\t_\t1\tobj\t_\tSpaceAfter=No\n",
            "9\t玳\t玳\tNOUN\tn,名詞,*,*\t_\t8\tconj\t_\tSpaceAfter=No\n",
            "10\t瑁\t瑁\tPROPN\tn,名詞,人,名\tNameType=Giv\t11\tnmod\t_\tGloss=[given-name]|SpaceAfter=No\n",
            "11\t筵\t筵\tNOUN\tn,名詞,可搬,道具\t_\t8\tconj\t_\tGloss=bamboo-mat|SpaceAfter=No\n",
            "12\t。\t。\tPUNCT\ts,記号,句点,*\t_\t1\tpunct\t_\tSpaceAfter=No\n",
            "\n",
            "\n"
          ],
          "name": "stdout"
        }
      ]
    },
    {
      "cell_type": "markdown",
      "metadata": {
        "id": "T7Rvjd32QEiR"
      },
      "source": [
        "Or just the visual representation."
      ]
    },
    {
      "cell_type": "code",
      "metadata": {
        "colab": {
          "base_uri": "https://localhost:8080/"
        },
        "id": "cX81wqFVnPb0",
        "outputId": "a5962415-d4db-40ba-c033-140f28f9f959"
      },
      "source": [
        "print(seg_phrase.to_tree())"
      ],
      "execution_count": 30,
      "outputs": [
        {
          "output_type": "stream",
          "text": [
            "建 ═══╗═╗═══╗═╗ root\n",
            "章 ═╗<╝ ║   ║ ║ obj\n",
            "歡 <╝   ║   ║ ║ flat\n",
            "賞 ═╗<══╝   ║ ║ parataxis\n",
            "夕 <╝       ║ ║ obj\n",
            "， <══════╗ ║ ║ cc\n",
            "二 ═╗<══╗ ║ ║ ║ nsubj\n",
            "八 <╝   ║ ║ ║ ║ conj\n",
            "盡 ═══╗═╝═╝<╝ ║ conj\n",
            "妖 <╗ ║       ║ amod\n",
            "妍 ═╝<╝       ║ obj\n",
            "。 <══════════╝ punct\n",
            "羅 ═╗═══╗═══╗═╗ root\n",
            "綺 <╝   ║   ║ ║ flat:vv\n",
            "昭 <══╗ ║   ║ ║ amod\n",
            "陽 <╗ ║ ║   ║ ║ nmod\n",
            "殿 ═╝═╝<╝   ║ ║ obj\n",
            "， <══════╗ ║ ║ advmod\n",
            "芬 <══╗   ║ ║ ║ nmod\n",
            "芳 ═╗═╝═╗═╝<╝ ║ obj\n",
            "玳 <╝   ║     ║ conj\n",
            "瑁 <╗   ║     ║ nmod\n",
            "筵 ═╝<══╝     ║ conj\n",
            "。 <══════════╝ punct\n",
            "\n"
          ],
          "name": "stdout"
        }
      ]
    },
    {
      "cell_type": "markdown",
      "metadata": {
        "id": "bRQ2VGPOQlL1"
      },
      "source": [
        "We can save the tree to an .svg file. <br>\n",
        "The contents of the file might not be visible within Google Drive. To view, download the file to computer, right-click and choose \"Open with\" => \"Google Chrome\""
      ]
    },
    {
      "cell_type": "code",
      "metadata": {
        "id": "7bnKcpmdQQ7D"
      },
      "source": [
        "f=open(\"trial.svg\",\"w\")\n",
        "f.write(seg_phrase.to_svg())\n",
        "f.close()"
      ],
      "execution_count": 34,
      "outputs": []
    },
    {
      "cell_type": "markdown",
      "metadata": {
        "id": "F0j_1_oYoX-B"
      },
      "source": [
        "Only save the text."
      ]
    },
    {
      "cell_type": "code",
      "metadata": {
        "colab": {
          "base_uri": "https://localhost:8080/"
        },
        "id": "i2iyUbn6n1iT",
        "outputId": "e6d9f49f-5698-48e7-8836-269f9f4d81b3"
      },
      "source": [
        "print(\" \".join([i.form for i in seg_phrase[1:]]))"
      ],
      "execution_count": 35,
      "outputs": [
        {
          "output_type": "stream",
          "text": [
            "建 章 歡 賞 夕 ， 二 八 盡 妖 妍 。 羅 綺 昭 陽 殿 ， 芬 芳 玳 瑁 筵 。\n"
          ],
          "name": "stdout"
        }
      ]
    },
    {
      "cell_type": "markdown",
      "metadata": {
        "id": "s39NDy6uob2I"
      },
      "source": [
        "### Working with a bigger text"
      ]
    },
    {
      "cell_type": "code",
      "metadata": {
        "colab": {
          "base_uri": "https://localhost:8080/",
          "height": 66,
          "referenced_widgets": [
            "e222e4773ee94bbf94fd04bd27944b9b",
            "d2709ffaf2a34622925ff58550de2d12",
            "8052671ed19249a698d82ffbe75d8eee",
            "6fbd6a2d08fb4ed0ad0b8cffe77ec5ad",
            "b01b51ba32514748aee4e2dc591f4f25",
            "7d98bf93c96741e29ea9a982ff309061",
            "850b585d2bba44a6a6c6a92fdbcc3a43",
            "2c8e0dfe4f4e4259bd49906600c43da6"
          ]
        },
        "id": "Kyx7dsBHsJFq",
        "outputId": "d9b10eff-30fd-4475-a1a1-53115546bd15"
      },
      "source": [
        "fh = open('udkanbun_tokenized.txt', 'w')\n",
        "\n",
        "for phrase in tqdm(sentences):\n",
        "  seg_list = lzh(phrase)\n",
        "  seg_phrase = \" \".join([i.form for i in seg_list[1:]])\n",
        "  fh.write(f'{seg_phrase}\\n')\n",
        "\n",
        "fh.close()"
      ],
      "execution_count": 38,
      "outputs": [
        {
          "output_type": "display_data",
          "data": {
            "application/vnd.jupyter.widget-view+json": {
              "model_id": "e222e4773ee94bbf94fd04bd27944b9b",
              "version_minor": 0,
              "version_major": 2
            },
            "text/plain": [
              "HBox(children=(FloatProgress(value=0.0, max=17.0), HTML(value='')))"
            ]
          },
          "metadata": {
            "tags": []
          }
        },
        {
          "output_type": "stream",
          "text": [
            "\n"
          ],
          "name": "stdout"
        }
      ]
    },
    {
      "cell_type": "code",
      "metadata": {
        "id": "UjINWQ2MqRO_"
      },
      "source": [
        "\n"
      ],
      "execution_count": 49,
      "outputs": []
    },
    {
      "cell_type": "markdown",
      "metadata": {
        "id": "vmq93bnWSciK"
      },
      "source": [
        "## Dictionary-based tokenization"
      ]
    },
    {
      "cell_type": "code",
      "metadata": {
        "id": "vhv1pekvqlTC"
      },
      "source": [
        "from helper import dict_tokenizer as dt"
      ],
      "execution_count": 41,
      "outputs": []
    },
    {
      "cell_type": "markdown",
      "metadata": {
        "id": "WFLuKM9JW876"
      },
      "source": [
        "By default uses CDICT. If you want to use another one, replace dictionary file name in \"Step 3\"."
      ]
    },
    {
      "cell_type": "code",
      "metadata": {
        "id": "LrK2S18CUjZP"
      },
      "source": [
        "dictionary = dt.open_vocab(dictionary_path)"
      ],
      "execution_count": 60,
      "outputs": []
    },
    {
      "cell_type": "markdown",
      "metadata": {
        "id": "FTf2zLpQT7O6"
      },
      "source": [
        "### Tokenize a sentence\n",
        "By default allows only 1 or 2 character words. Change number in \"longest_word\" to allow longer ones."
      ]
    },
    {
      "cell_type": "code",
      "metadata": {
        "colab": {
          "base_uri": "https://localhost:8080/"
        },
        "id": "rt7YcrGaTryl",
        "outputId": "6cc03c49-4054-45ce-fba9-23d8c6076484"
      },
      "source": [
        "seg_list = dt.tokenize(text, vocab = dictionary, longest_word=2)\n",
        "print(\" \".join(seg_list))"
      ],
      "execution_count": 56,
      "outputs": [
        {
          "output_type": "stream",
          "text": [
            "建章 歡 賞 夕 ， 二八 盡 妖 妍 。 羅綺 昭陽 殿 ， 芬芳 玳瑁 筵 。\n"
          ],
          "name": "stdout"
        }
      ]
    },
    {
      "cell_type": "markdown",
      "metadata": {
        "id": "iLg22IRHWCGg"
      },
      "source": [
        "### Tokenize a text"
      ]
    },
    {
      "cell_type": "code",
      "metadata": {
        "colab": {
          "base_uri": "https://localhost:8080/",
          "height": 66,
          "referenced_widgets": [
            "96ccfdd417f948008b95628f25b30ae2",
            "11f1acbd48c449a69163505bd59e0c0c",
            "95cb8acf19474ef3beed6ad3cbc45835",
            "e46c1005aeb74105ba92ea187f81e0bc",
            "85c049cb3c724070bedc6ae0d4eeee51",
            "4270feb1b4414aa3adb6afc2b82c4ba5",
            "d929e88d7d1f46fb91d0a62a3b180380",
            "ca8351ec77d14bbd9fea1620a6360a09"
          ]
        },
        "id": "kaJ2isIEU9zg",
        "outputId": "49cd702d-90c2-4397-874d-8b3dc7ff6401"
      },
      "source": [
        "fh = open('dictionary_tokenized.txt', 'w')\n",
        "\n",
        "for phrase in tqdm(sentences):\n",
        "  seg_list = dt.tokenize(phrase, vocab = dictionary, longest_word=2)\n",
        "  seg_phrase = \" \".join(seg_list)\n",
        "  fh.write(f'{seg_phrase}\\n')\n",
        "\n",
        "fh.close()"
      ],
      "execution_count": 54,
      "outputs": [
        {
          "output_type": "display_data",
          "data": {
            "application/vnd.jupyter.widget-view+json": {
              "model_id": "96ccfdd417f948008b95628f25b30ae2",
              "version_minor": 0,
              "version_major": 2
            },
            "text/plain": [
              "HBox(children=(FloatProgress(value=0.0, max=17.0), HTML(value='')))"
            ]
          },
          "metadata": {
            "tags": []
          }
        },
        {
          "output_type": "stream",
          "text": [
            "\n"
          ],
          "name": "stdout"
        }
      ]
    },
    {
      "cell_type": "code",
      "metadata": {
        "id": "9N4OQzhTWTGa"
      },
      "source": [
        ""
      ],
      "execution_count": null,
      "outputs": []
    }
  ]
}